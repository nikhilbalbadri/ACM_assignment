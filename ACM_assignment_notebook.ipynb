{
 "cells": [
  {
   "cell_type": "code",
   "execution_count": 3,
   "metadata": {},
   "outputs": [
    {
     "name": "stdout",
     "output_type": "stream",
     "text": [
      "3\n",
      "24 1\n",
      "34\n",
      "4358 754\n",
      "1998\n",
      "305 794\n",
      "1\n"
     ]
    }
   ],
   "source": [
    "def reverseNumber(number):    #function to reverse a number\n",
    "    revs_number = 0\n",
    "    while (number > 0):\n",
    "        remainder = number%10\n",
    "        revs_number = (revs_number * 10) + remainder\n",
    "        number = number // 10\n",
    "    return revs_number\n",
    "\n",
    "def main():\n",
    "    num_cases = int(input())\n",
    "    for i in range(num_cases):\n",
    "        request = input()    #reads input as request\n",
    "        if len(request.split()) < 2:    # returns 0 if input only contains 1 integer.\n",
    "            print(0)\n",
    "        else:\n",
    "            num1, num2 = request.split()    #splits string input into two integer seperated by space.\n",
    "            if not num1.isdigit() or not num2.isdigit(): #check if either of the number is not a digit\n",
    "                print(0)\n",
    "            else:\n",
    "                revnum1 = reverseNumber(int(num1)) #reverse num1\n",
    "                revnum2 = reverseNumber(int(num2)) #reverse num2\n",
    "                Sum = revnum1 + revnum2\n",
    "                revsum = reverseNumber(Sum) #reverse Sum\n",
    "                print(revsum)\n",
    "if __name__== \"__main__\" :\n",
    "    main()"
   ]
  },
  {
   "cell_type": "code",
   "execution_count": null,
   "metadata": {},
   "outputs": [],
   "source": []
  }
 ],
 "metadata": {
  "kernelspec": {
   "display_name": "Python 3",
   "language": "python",
   "name": "python3"
  },
  "language_info": {
   "codemirror_mode": {
    "name": "ipython",
    "version": 3
   },
   "file_extension": ".py",
   "mimetype": "text/x-python",
   "name": "python",
   "nbconvert_exporter": "python",
   "pygments_lexer": "ipython3",
   "version": "3.8.5"
  }
 },
 "nbformat": 4,
 "nbformat_minor": 4
}
